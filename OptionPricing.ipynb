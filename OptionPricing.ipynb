{
 "cells": [
  {
   "cell_type": "markdown",
   "metadata": {},
   "source": [
    "# Continuous Time Finance Midterm Coding part\n",
    "### Student Name: Yunxiao Xiang \n",
    "### Student ID: N12351630"
   ]
  },
  {
   "cell_type": "markdown",
   "metadata": {},
   "source": [
    "## Problem (b) Monte Carlo Simulation"
   ]
  },
  {
   "cell_type": "code",
   "execution_count": 1,
   "metadata": {},
   "outputs": [],
   "source": [
    "import pandas as pd\n",
    "import numpy as np\n",
    "import matplotlib.pyplot as plt\n",
    "import numpy.random      as ran   \n",
    "from scipy.stats import norm"
   ]
  },
  {
   "cell_type": "code",
   "execution_count": 2,
   "metadata": {},
   "outputs": [
    {
     "data": {
      "image/png": "[encoded data removed]",
      "text/plain": [
       "<Figure size 432x288 with 1 Axes>"
      ]
     },
     "metadata": {
      "needs_background": "light"
     },
     "output_type": "display_data"
    }
   ],
   "source": [
    "# function that takes as input \n",
    "# r: risk free rate,\n",
    "# sigma: volatitily,\n",
    "# t: initial time\n",
    "# T: final time\n",
    "# n: number of periods in [0,T] \n",
    "# s_0: initial stock price\n",
    "# and output a list storing a GBM path prices\n",
    "def GeometricBM(r, sigma, t, T, n, s_0):\n",
    "    # compute dt = T/N\n",
    "    dt = (T-t)/n\n",
    "    # initialzie lists to store S_t: S_0 ... S_T have in total N+1 prices\n",
    "    prices = [0.0]*(n+1)\n",
    "    prices[0] = s_0\n",
    "    #  create a list of random generated sample from standard normal\n",
    "    Z = np.random.normal(loc=0.0, scale=1.0, size=n)\n",
    "    #  iterate from 1 to N-1, filling prices at time t_i = i*dt\n",
    "    for i in range(1,n+1):\n",
    "        prices[i] = prices[i-1] + r*prices[i-1]*dt + sigma*prices[i-1]*(dt**(1/2))*Z[i-1]\n",
    "        \n",
    "    return prices\n",
    "\n",
    "\n",
    "# Test by drawing the path\n",
    "r = 0.02\n",
    "sigma =  0.2\n",
    "t = 0\n",
    "T = 1\n",
    "N = 252\n",
    "S_0 = 100\n",
    "dt = T/N\n",
    "\n",
    "x = GeometricBM(r, sigma,t, T, N, S_0)\n",
    "time = [dt*i for i in range(0,N+1)]\n",
    "\n",
    "plt.plot(time,x)\n",
    "plt.title(\"GBM path with t=\"+str(t)+\", T=\"+str(T)+\", N=\"+str(N)+\", r=\"+str(r)+\", sigma=\"+ str(sigma)+\", S_0=\"+str(S_0))\n",
    "plt.xlabel('Time in year')\n",
    "plt.ylabel(\"Stock price at time t\")\n",
    "plt.show()"
   ]
  },
  {
   "cell_type": "markdown",
   "metadata": {},
   "source": [
    "## Problem (c)"
   ]
  },
  {
   "cell_type": "code",
   "execution_count": 3,
   "metadata": {},
   "outputs": [
    {
     "name": "stdout",
     "output_type": "stream",
     "text": [
      "The option payoff of test path is:  22.7302120213742\n"
     ]
    }
   ],
   "source": [
    "# function that takes as input \n",
    "# prices: a list of price\n",
    "# B: a barieer than which options will pay 0 if the price is lower  \n",
    "# K: the strike price ofthe option\n",
    "# and outputs a payoff of the down-and-out call\n",
    "def computePayoff(prices, B, K):\n",
    "    payoff = 0\n",
    "    # if all prices are >= barrier\n",
    "    if( all(S_t >= B for S_t in prices) ):\n",
    "        payoff = max(0, prices[-1] - K)\n",
    "    return payoff\n",
    "\n",
    "# Test against path from (b)\n",
    "B = 80\n",
    "K = 110\n",
    "payoff = computePayoff(x, B, K)\n",
    "print('The option payoff of test path is: ',payoff)"
   ]
  },
  {
   "cell_type": "markdown",
   "metadata": {},
   "source": [
    "## Problem (d)"
   ]
  },
  {
   "cell_type": "code",
   "execution_count": 4,
   "metadata": {},
   "outputs": [
    {
     "name": "stdout",
     "output_type": "stream",
     "text": [
      "According to Monte Carlo of 100000 simulations, the price of the option is: \n",
      "  4.942591428614586\n"
     ]
    }
   ],
   "source": [
    "# function that takes as input \n",
    "# r: risk free rate,\n",
    "# sigma: volatitily,\n",
    "# T: final time\n",
    "# n: number of periods in [0,T] \n",
    "# s_0: initial stock price\n",
    "# B: a barieer than which options will pay 0 if the price is lower  \n",
    "# K: the strike price ofthe option\n",
    "# N_p: number of simulations\n",
    "# and output an average of payoff from simulating N paths\n",
    "def simulation(r, sigma, t, T, n, s_0, B, K, N_p):\n",
    "    payoffs = [0.0]*N_p\n",
    "    for i in range(N_p):\n",
    "        prices = GeometricBM(r, sigma, t, T, n, s_0)\n",
    "        payoffs[i] = computePayoff(prices, B, K)\n",
    "    return np.mean(payoffs)*np.exp(-r*(T-t))\n",
    "\n",
    "# Doing 10^5 simulations\n",
    "r = 0.02\n",
    "sigma =  0.2\n",
    "t = 0\n",
    "T = 1\n",
    "N = 252\n",
    "S_0 = 100\n",
    "dt = T/N\n",
    "B = 80\n",
    "K = 110\n",
    "N_p = 10**5\n",
    "monteCarloPrice = simulation(r, sigma, t, T, N, S_0, B, K, N_p)\n",
    "print(\"According to Monte Carlo of \"+str(N_p)+\" simulations, the price of the option is: \\n \", monteCarloPrice)"
   ]
  },
  {
   "cell_type": "markdown",
   "metadata": {},
   "source": [
    "## Problem (m) Numerical PDE Solution"
   ]
  },
  {
   "cell_type": "code",
   "execution_count": 5,
   "metadata": {},
   "outputs": [],
   "source": [
    "# function that takes as input \n",
    "# r: risk free rate,\n",
    "# sigma: volatitily,\n",
    "# T: final time\n",
    "# n: number of periods in [0,T] \n",
    "# s_0: initial stock price\n",
    "# B: a barieer than which options will pay 0 if the price is lower  \n",
    "# K: the strike price ofthe option\n",
    "# N_t: number of points of t in grid\n",
    "# N_x: number of points of x in grid\n",
    "# R: the upper bound of the system\n",
    "# and output an average of payoff from simulating N paths\n",
    "def numericalSol(r, sigma, t, T, s_0, B, K, N_t, N_x, R):\n",
    "    # Define x grid points\n",
    "    dx = (R - B)/N_x\n",
    "    x = [B + dx*k for k in range(N_x+1)]\n",
    "    # Define M\n",
    "    M = np.identity(N_x+1)\n",
    "    for i in range(1,N_x):\n",
    "        # a_k\n",
    "        M[i][i-1] = -dt*(-r*x[i]/(2*dx) + sigma**2*(x[i]**2)/(2*(dx**2)))\n",
    "        # b_k\n",
    "        M[i][i] = 1 + r*dt + sigma**2*(x[i]**2)*dt/(dx**2)\n",
    "        # c_k\n",
    "        M[i][i+1] = -dt*(r*x[i]/(2*dx) + sigma**2*(x[i]**2)/(2*(dx**2)))\n",
    "\n",
    "    M_inv = np.linalg.inv(M)\n",
    "    # Set V_Nt =(g(x_0),...,g(x_Nx))\n",
    "    V_Nt = payoff(x,K)\n",
    "    # create a matrix to store grid points\n",
    "    grid_points = np.array([V_Nt]*(1+N_t)).T\n",
    "    # iterate backward n = Nt,Nt−1,...,1\n",
    "    for n in range(N_t,0,-1):\n",
    "        # Compute C_(n-1)\n",
    "        C = np.concatenate(([0]*N_x,[K*(np.exp(-r*T+r*(t+dt*n))-np.exp(-r*T+r*(t+dt*(n-1))))]))\n",
    "        # Compute V_(n-1) from V_n\n",
    "        grid_points[:,n-1] = M_inv@grid_points[:,n] + C\n",
    "\n",
    "    x_point = int((s_0-B)/dx)\n",
    "    return grid_points[x_point,0]\n",
    "    \n",
    "\n",
    "# function that takes as input\n",
    "# x: a list of stock prices\n",
    "# K: strike price (a float)\n",
    "# and outputs the payoff of the option\n",
    "def payoff(x, K):\n",
    "    for i in range(len(x)):\n",
    "        x[i] = max(x[i] - K,0)\n",
    "    return x"
   ]
  },
  {
   "cell_type": "code",
   "execution_count": 6,
   "metadata": {},
   "outputs": [
    {
     "name": "stdout",
     "output_type": "stream",
     "text": [
      "The price of the option at time t calculated by numerical method of PDE is: \n",
      " 4.916733625244862\n"
     ]
    }
   ],
   "source": [
    "r = 0.02\n",
    "sigma =  0.2\n",
    "t = 0\n",
    "T = 1\n",
    "N_t = 252\n",
    "N_x = 2200\n",
    "S_0 = 100\n",
    "R = 300\n",
    "B = 80\n",
    "K = 110\n",
    "\n",
    "numericalPrice = numericalSol(r, sigma, t, T, S_0, B, K, N_t, N_x, R)\n",
    "print('The price of the option at time t calculated by numerical method of PDE is: \\n',numericalPrice)"
   ]
  },
  {
   "cell_type": "markdown",
   "metadata": {},
   "source": [
    "## Problem (o) Analytical PDE Solution"
   ]
  },
  {
   "cell_type": "code",
   "execution_count": 7,
   "metadata": {},
   "outputs": [],
   "source": [
    "# function that takes as input \n",
    "# r: risk free rate,\n",
    "# sigma: volatitily,\n",
    "# T: maturity\n",
    "# n: number of periods in [0,T] \n",
    "# s_0: initial stock price\n",
    "# B: a barieer than which options will pay 0 if the price is lower  \n",
    "# K: the strike price ofthe option\n",
    "# and output the value of option at time t\n",
    "def analytical(r, sigma, t, T, s_0, B, K):\n",
    "    return (BSCall(r, sigma, t, T, s_0, B, K) \n",
    "            - (s_0/B)**(1 - 2*r/(sigma**2))*BSCall(r, sigma, t, T, B**2/s_0, B, K))\n",
    "\n",
    "# function that takes as input \n",
    "# r: risk free rate,\n",
    "# sigma: volatitily,\n",
    "# T: maturity\n",
    "# n: number of periods in [0,T] \n",
    "# s_0: initial stock price \n",
    "# K: the strike price ofthe option\n",
    "# and output the value of a vallina call option at time t\n",
    "def BSCall(r, sigma, t, T, s_0, B, K):\n",
    "    d_1 = (np.log(s_0/K) + (r + (sigma**2)/2)*(T - t))/(sigma*np.sqrt(T - t))\n",
    "    d_2 = d_1 - sigma*np.sqrt(T - t)\n",
    "    return (s_0*norm.cdf(d_1) - K*np.exp(-r*(T - t))*norm.cdf(d_2))"
   ]
  },
  {
   "cell_type": "code",
   "execution_count": 8,
   "metadata": {},
   "outputs": [
    {
     "name": "stdout",
     "output_type": "stream",
     "text": [
      "The price of the option at time t calculated by analytical solution of PDE is: \n",
      " 4.920256808220372\n"
     ]
    }
   ],
   "source": [
    "r = 0.02\n",
    "sigma =  0.2\n",
    "t = 0\n",
    "T = 1\n",
    "S_0 = 100\n",
    "B = 80\n",
    "K = 110\n",
    "analyticalPrice = analytical(r, sigma, t, T, S_0, B, K)\n",
    "\n",
    "print('The price of the option at time t calculated by analytical solution of PDE is: \\n', analyticalPrice)"
   ]
  },
  {
   "cell_type": "code",
   "execution_count": 9,
   "metadata": {},
   "outputs": [
    {
     "name": "stdout",
     "output_type": "stream",
     "text": [
      "According to Monte Carlo of 100000 simulations, the price of the option is: \n",
      " 4.942591428614586\n",
      "The price of the option at time t calculated by numerical method of PDE is: \n",
      " 4.916733625244862\n",
      "The price of the option at time t calculated by analytical solution of PDE is: \n",
      " 4.920256808220372\n"
     ]
    }
   ],
   "source": [
    "print(\"According to Monte Carlo of \"+str(N_p)+\" simulations, the price of the option is: \\n\",monteCarloPrice)\n",
    "print('The price of the option at time t calculated by numerical method of PDE is: \\n',numericalPrice)\n",
    "print('The price of the option at time t calculated by analytical solution of PDE is: \\n', analyticalPrice)"
   ]
  },
  {
   "cell_type": "markdown",
   "metadata": {},
   "source": [
    "Summary: We can see that the price of option at time t computed from above three methods are close, which means our solutions make sense. The real value of option at time t is some number close to 4.92. We can also increase the accuracy of our Monte Carlo and PDE method by doing more simulation and adding more grid points respectively. But that will be a trade off between accuracy and time complexity."
   ]
  }
 ],
 "metadata": {
  "kernelspec": {
   "display_name": "Python 3",
   "language": "python",
   "name": "python3"
  },
  "language_info": {
   "codemirror_mode": {
    "name": "ipython",
    "version": 3
   },
   "file_extension": ".py",
   "mimetype": "text/x-python",
   "name": "python",
   "nbconvert_exporter": "python",
   "pygments_lexer": "ipython3",
   "version": "3.6.7"
  }
 },
 "nbformat": 4,
 "nbformat_minor": 4
}
